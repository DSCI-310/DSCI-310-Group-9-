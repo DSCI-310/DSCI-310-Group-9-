{
 "cells": [
  {
   "cell_type": "code",
   "execution_count": null,
   "id": "8daf1a1e-4039-4536-8ff0-87d07dbb7924",
   "metadata": {},
   "outputs": [],
   "source": []
  },
  {
   "cell_type": "markdown",
   "id": "ebf52b80-ad1f-431a-a603-b0ee65c771ad",
   "metadata": {},
   "source": [
    "# Car Evaluation"
   ]
  }
 ],
 "metadata": {
  "kernelspec": {
   "display_name": "R",
   "language": "R",
   "name": "ir"
  },
  "language_info": {
   "codemirror_mode": "r",
   "file_extension": ".r",
   "mimetype": "text/x-r-source",
   "name": "R",
   "pygments_lexer": "r",
   "version": "4.1.2"
  }
 },
 "nbformat": 4,
 "nbformat_minor": 5
}
