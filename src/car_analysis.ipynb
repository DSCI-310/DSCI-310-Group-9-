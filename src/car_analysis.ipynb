{
 "cells": [
  {
   "cell_type": "markdown",
   "id": "70fac242-a048-4753-aba6-b62eeba7d969",
   "metadata": {
    "tags": []
   },
   "source": [
    "# <u>Car Evaluation<u>"
   ]
  },
  {
   "cell_type": "code",
   "execution_count": 1,
   "id": "921b1708",
   "metadata": {},
   "outputs": [],
   "source": [
    "import pandas as pd\n",
    "from sklearn.model_selection import cross_validate, train_test_split\n",
    "from sklearn.neighbors import KNeighborsClassifier\n",
    "from sklearn.preprocessing import OneHotEncoder, OrdinalEncoder\n",
    "from sklearn.pipeline import Pipeline, make_pipeline\n",
    "from sklearn.compose import ColumnTransformer, make_column_transformer\n",
    "from sklearn.linear_model import LogisticRegression\n",
    "import matplotlib.pyplot as plt\n",
    "\n",
    "import sys\n",
    "sys.path.append( '..' )\n",
    "from src.features import features\n",
    "from src.visualize_coefficients import visualize_coefficients"
   ]
  },
  {
   "cell_type": "markdown",
   "id": "46b09be6",
   "metadata": {},
   "source": [
    "### <u>Summary<u>\n",
    "\n",
    "We will be training a model to predict the price of a car using the given features: maintenance, number of doors, number of people that can fit in the car, car trunk space, safety and class."
   ]
  },
  {
   "cell_type": "markdown",
   "id": "3f243731",
   "metadata": {},
   "source": [
    "### <u> Introduction<u>"
   ]
  },
  {
   "cell_type": "markdown",
   "id": "3bb09d7f-769e-47b1-9df2-a6376eeeb3af",
   "metadata": {},
   "source": [
    "When making large purchases, it is incredibly important to consider all of the factors that go into the pricing and decision to commit to buying. With a rise in car prices, this is an essential consideration. There are several factors that influence the price of a car, for example brand, size, safety, etc. The overall safety of a car increases the cost, because of individual features and equipment, including backup cameras, video displays and automatic emergency braking. When purchasing a vehicle, you are not only investing in the price of the car itself, but the cost of insurance, which is also influenced by a number of features. On average, the insurance cost for a 4-door car is cheaper than a 2-door, because of the target buyers, sticker and repair costs, etc. As 2-door cars are typically sports and luxury cars, the materials and technology used to manufacture them will likely be luxury as well. Following the same line of reasoning, the maintenance of a luxury car is expected to be more expensive. The maintenance cost is likely to be a large influential factor in the price, because it can account for above 30% of the total cost.\n",
    "\n",
    "We are interested in determining the relationship between the buying price of a car and its' maintenance cost, number of doors, capacity, safety, the size of the luggage boot (trunk) and class. Therefore, the question we will be exploring in this analysis is: do these factors influence the cost of buying a car, and how? To study these relationships, we will be using the Car Evaluation dataset obtained from UC Irvine Machine Learning Repository. This dataset contains information about all of the explanatory variables for our analysis and buying price, represented as categorical values. Based on our initial research, we expect that maintenance and safety will be highly correlated with the buying price. \n",
    "\n",
    "\n",
    "&nbsp;"
   ]
  },
  {
   "cell_type": "markdown",
   "id": "b00b966f",
   "metadata": {},
   "source": [
    "### <u> Methods & Results <u>"
   ]
  },
  {
   "cell_type": "markdown",
   "id": "48d4f72e-37b8-417d-8e62-a2e43d5dffaf",
   "metadata": {},
   "source": [
    "&nbsp;"
   ]
  },
  {
   "cell_type": "code",
   "execution_count": null,
   "id": "c5964835",
   "metadata": {
    "tags": []
   },
   "outputs": [],
   "source": [
    "# loading dataset into a readable dataframe\n",
    "\n",
    "car_table = pd.read_csv('/DSCI-310-Group-9-/data/car.data', sep = \",\", header=None, names = [\"price\", \"maint\", \"doors\", \"persons\", \"lug_boot\", \"safety\", \"class\"],)\n",
    "car_table.style.set_caption('Table 1')\n",
    "car_table"
   ]
  },
  {
   "cell_type": "markdown",
   "id": "facda832-fb58-451f-afbf-18b5270083e8",
   "metadata": {},
   "source": [
    "Table 1. Dataframe of car dataset\n",
    "&nbsp;\n",
    "\n",
    "\n",
    "&nbsp;"
   ]
  },
  {
   "cell_type": "code",
   "execution_count": null,
   "id": "ed60ab8d-a77e-4cc5-96d0-0c677e1f31bd",
   "metadata": {},
   "outputs": [],
   "source": [
    "# remove any nulls/nan values in the dataframe\n",
    "rm_null(car_table)"
   ]
  },
  {
   "cell_type": "code",
   "execution_count": null,
   "id": "c08966d7-442d-4303-925e-55bee8fb2d2c",
   "metadata": {},
   "outputs": [],
   "source": [
    "price = pd.DataFrame(car_table[\"price\"])\n",
    "\n",
    "# price.value_counts().plot(kind='bar')\n",
    "plt.hist(price, bins=7)\n",
    "plt.xlabel(\"Price\")\n",
    "plt.ylabel(\"Count\")\n",
    "plt.title(\"Figure 1: Distribution of Price Variable\")\n",
    "plt.figure(figsize=(15, 12), dpi= 80)"
   ]
  },
  {
   "cell_type": "markdown",
   "id": "190a0014-f54f-4b3c-a88e-aebac625bb95",
   "metadata": {},
   "source": [
    "No class imbalances.\n",
    "&nbsp;\n",
    "\n",
    "\n",
    "\n",
    "&nbsp;"
   ]
  },
  {
   "cell_type": "code",
   "execution_count": null,
   "id": "40aa5897-2fa3-40a4-b6be-0add1bdfcaff",
   "metadata": {},
   "outputs": [],
   "source": [
    "# categorizing features(price, maint, doors, persons, lug_boot, safety, class) to be used a in column transformer to enable easy manipulation of data frame\n",
    "\n",
    "ordinal_feats = [\"price\", \"maint\", \"doors\", \"persons\", \"lug_boot\", \"safety\", \"class\"]\n",
    "\n",
    "# categories of each feature\n",
    "maint_levels = ['low', 'med', 'high', 'vhigh']\n",
    "doors_levels = ['2', '3', '4', '5more']\n",
    "persons_levels = ['2', '4', 'more']\n",
    "boot_levels = ['small', 'med', 'big']\n",
    "safety_levels = ['low', 'med', 'high']\n",
    "class_levels = ['unacc', 'acc', 'good', 'vgood']\n",
    "\n",
    "\n",
    "# ordinal encoding of each feature\n",
    "column_transformer = make_column_transformer(\n",
    "    (OrdinalEncoder(categories=[maint_levels, maint_levels, doors_levels, persons_levels, boot_levels, safety_levels, class_levels],\n",
    "                    dtype = int),\n",
    "                    ordinal_feats)\n",
    ")\n",
    "\n",
    "X_transformed = column_transformer.fit_transform(car_table)\n",
    "column_names = (ordinal_feats)\n",
    "\n"
   ]
  },
  {
   "cell_type": "code",
   "execution_count": null,
   "id": "3be4abde-485d-4d21-b3eb-37807e067500",
   "metadata": {},
   "outputs": [],
   "source": [
    "# creating new table after data preprcoessing \n",
    "new_table = pd.DataFrame(X_transformed, columns=column_names)\n",
    "\n",
    "# splitting of target variable and features\n",
    "X_car = features(new_table, 'price')\n",
    "Y_car = new_table['price']\n",
    "\n",
    "\n",
    "# splitting of data frame into training and testing data\n",
    "X_train, X_Test, y_train, y_test = train_test_split(X_car, Y_car, test_size=0.2, random_state=1)\n",
    "\n",
    "# features used for modeling\n",
    "feats = [\"maint\", \"doors\", \"persons\", \"lug_boot\", \"safety\", \"class\"]"
   ]
  },
  {
   "cell_type": "code",
   "execution_count": null,
   "id": "f5f451d6-e33f-486f-9926-7ccb86dc3102",
   "metadata": {},
   "outputs": [],
   "source": [
    "# fitting model for classification analysis\n",
    "\n",
    "lr = LogisticRegression(max_iter=1000, C=100)\n",
    "lr.fit(X_train, y_train)\n",
    "\n",
    "coeffs = lr.coef_[3]\n",
    "\n",
    "score = cross_validate(lr, X_Test, y_test, cv=10)\n",
    "\n",
    "pd.DataFrame(score)\n"
   ]
  },
  {
   "cell_type": "markdown",
   "id": "94c9338e-ca4c-482d-91a1-59a6c5de87fd",
   "metadata": {},
   "source": [
    "Table 2. Cross-validation scores 10-folds\n",
    "&nbsp;\n",
    "\n",
    "\n",
    "&nbsp;"
   ]
  },
  {
   "cell_type": "code",
   "execution_count": null,
   "id": "b9570e7e-35a0-4fa4-86e1-62bbd86aa171",
   "metadata": {},
   "outputs": [],
   "source": [
    "# coefficients of each feature\n",
    "\n",
    "\n",
    "data = {\"features\":feats, \"coefficient\":coeffs}\n",
    "df1 = pd.DataFrame(data).sort_values(by=['coefficient'])\n",
    "pd.DataFrame(data)\n"
   ]
  },
  {
   "cell_type": "markdown",
   "id": "e0a94398-6cf1-4da6-a949-b635d9a5ef7c",
   "metadata": {},
   "source": [
    "Table 3. Feature Coefficients\n",
    "&nbsp;\n",
    "\n",
    "\n",
    "&nbsp;"
   ]
  },
  {
   "cell_type": "code",
   "execution_count": null,
   "id": "2f048338-70d3-42cb-8dc4-e9ef9cf58127",
   "metadata": {},
   "outputs": [],
   "source": [
    "df1 = df1.sort_values(by=['coefficient'])\n",
    "\n",
    "fig = visualize_coefficients(df1, \"Graph of training coefficients\", \"features\", \"coefficient\")"
   ]
  },
  {
   "cell_type": "markdown",
   "id": "1d34b942-410f-4c14-b4e3-49fcced6dc45",
   "metadata": {},
   "source": [
    "&nbsp;\n",
    "\n",
    "&nbsp;"
   ]
  },
  {
   "cell_type": "markdown",
   "id": "4da1fe72-1376-48c9-93ab-7fba3bd9dd26",
   "metadata": {},
   "source": [
    "### <u>Discussion<u>"
   ]
  },
  {
   "cell_type": "markdown",
   "id": "568d5ba8",
   "metadata": {},
   "source": [
    "We have found that higher values of class and maintenance features decrease the value of the vehicle. While safety and the higher number of people that can fit in the car increase the value of the car the most. It was not what we expected because the value of the vehicle being increased by more people is subjective. Some people may value having more seats in a car than others due to personal preference. Moreover, we cannot use this model to discuss the impacts of such findings because the accuracy of the model needs to be increased a lot more before anything can be reasonably/confidently inferred from it. In the future, we can see if adding more features such as horsepower or branding of the car affects the value of the vehicle. It would also be interesting to see if introducing more categories in our target variable would increase the accuracy of the model."
   ]
  },
  {
   "cell_type": "markdown",
   "id": "967ab5cd-6ed9-4c41-9fac-cda1ceaf0883",
   "metadata": {},
   "source": [
    "&nbsp;\n",
    "\n",
    "&nbsp;"
   ]
  },
  {
   "cell_type": "markdown",
   "id": "0582268f-73cb-428a-9ba7-6e0889ed4831",
   "metadata": {},
   "source": [
    "### <u>References<u>"
   ]
  },
  {
   "cell_type": "markdown",
   "id": "e0c2fe9b-5865-4edc-9833-1791997afb2a",
   "metadata": {},
   "source": [
    "1 Capparella, J. (2021, November 29). New car prices are skyrocketing this spring. Car and \n",
    "Driver. Retrieved February 19, 2022, from https://www.caranddriver.com/news/a36342329/new-cars-expensive-prices/ \n",
    "\n",
    "2 Henry, J. (2021, November 11). Average new car price tops $45,000, used car price over \n",
    "$25,000. Forbes. Retrieved February 19, 2022, from https://www.forbes.com/wheels/news/new-car-price-tops-45000/ \n",
    "\n",
    "3 Vallet, M. (2021, February 25). Insurance for 2-door car versus 4-door car. Carinsurance.com. \n",
    "Retrieved February 19, 2022, from https://www.carinsurance.com/2-door-vs-4-door.aspx \n",
    "\n",
    "4 Ltd., T. I. (2020, June 27). How much does car maintenance cost? Car Maintenance Cost | \n",
    "What Is The Average Car Maintenance Cost? Retrieved February 19, 2022, from https://www.thinkinsure.ca/insurance-help-centre/car-maintenance-cost.html \n",
    "5 Vehicle maintenance: Cost relationship and estimating ... (n.d.). Retrieved February 19, 2022, \n",
    "from https://onlinepubs.trb.org/Onlinepubs/trr/1987/1140/1140-001.pdf \n",
    "\n",
    "6 Car Evaluation. (1997). UCI Machine Learning Repository.\n"
   ]
  }
 ],
 "metadata": {
  "kernelspec": {
   "display_name": "Python 3 (ipykernel)",
   "language": "python",
   "name": "python3"
  },
  "language_info": {
   "codemirror_mode": {
    "name": "ipython",
    "version": 3
   },
   "file_extension": ".py",
   "mimetype": "text/x-python",
   "name": "python",
   "nbconvert_exporter": "python",
   "pygments_lexer": "ipython3",
   "version": "3.9.5"
  }
 },
 "nbformat": 4,
 "nbformat_minor": 5
}
