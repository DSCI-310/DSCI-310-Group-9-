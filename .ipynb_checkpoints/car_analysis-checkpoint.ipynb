{
 "cells": [
  {
   "cell_type": "markdown",
   "id": "70fac242-a048-4753-aba6-b62eeba7d969",
   "metadata": {
    "tags": []
   },
   "source": [
    "# <u>Car Evaluation<u>"
   ]
  },
  {
   "cell_type": "code",
   "execution_count": 53,
   "id": "921b1708",
   "metadata": {},
   "outputs": [],
   "source": [
    "import pandas as pd\n",
    "#import mglearn\n",
    "from sklearn.model_selection import cross_validate, train_test_split\n",
    "from sklearn.neighbors import KNeighborsClassifier\n",
    "from sklearn.preprocessing import OneHotEncoder, OrdinalEncoder\n",
    "from sklearn.pipeline import Pipeline, make_pipeline\n",
    "from sklearn.compose import ColumnTransformer, make_column_transformer\n",
    "from sklearn.linear_model import LogisticRegression\n",
    "import matplotlib.pyplot as plt"
   ]
  },
  {
   "cell_type": "markdown",
   "id": "46b09be6",
   "metadata": {},
   "source": [
    "### <u>Summary<u>\n",
    "\n",
    "We will be training a model to predict the price of a car using the given features: maintenance, number of doors, number of people that can fit in the car, car trunk space, safety and class."
   ]
  },
  {
   "cell_type": "markdown",
   "id": "3f243731",
   "metadata": {},
   "source": [
    "### <u> Introduction<u>"
   ]
  },
  {
   "cell_type": "markdown",
   "id": "3bb09d7f-769e-47b1-9df2-a6376eeeb3af",
   "metadata": {},
   "source": [
    "When making large purchases, it is incredibly important to consider all of the factors that go into the pricing and decision to commit to buying. With a rise in car prices, this is an essential consideration. There are several factors that influence the price of a car, for example brand, size, safety, etc. The overall safety of a car increases the cost, because of individual features and equipment, including backup cameras, video displays and automatic emergency braking. When purchasing a vehicle, you are not only investing in the price of the car itself, but the cost of insurance, which is also influenced by a number of features. On average, the insurance cost for a 4-door car is cheaper than a 2-door, because of the target buyers, sticker and repair costs, etc. As 2-door cars are typically sports and luxury cars, the materials and technology used to manufacture them will likely be luxury as well. Following the same line of reasoning, the maintenance of a luxury car is expected to be more expensive. The maintenance cost is likely to be a large influential factor in the price, because it can account for above 30% of the total cost.\n",
    "\n",
    "We are interested in determining the relationship between the buying price of a car and its' maintenance cost, number of doors, capacity, safety, the size of the luggage boot (trunk) and class. Therefore, the question we will be exploring in this analysis is: do these factors influence the cost of buying a car, and how? To study these relationships, we will be using the Car Evaluation dataset obtained from UC Irvine Machine Learning Repository. This dataset contains information about all of the explanatory variables for our analysis and buying price, represented as categorical values. Based on our initial research, we expect that maintenance and safety will be highly correlated with the buying price. \n",
    "\n",
    "\n",
    "&nbsp;"
   ]
  },
  {
   "cell_type": "markdown",
   "id": "b00b966f",
   "metadata": {},
   "source": [
    "### <u> Methods & Results <u>"
   ]
  },
  {
   "cell_type": "markdown",
   "id": "48d4f72e-37b8-417d-8e62-a2e43d5dffaf",
   "metadata": {},
   "source": [
    "&nbsp;"
   ]
  },
  {
   "cell_type": "code",
   "execution_count": 47,
   "id": "c5964835",
   "metadata": {
    "tags": []
   },
   "outputs": [
    {
     "data": {
      "text/html": [
       "<div>\n",
       "<style scoped>\n",
       "    .dataframe tbody tr th:only-of-type {\n",
       "        vertical-align: middle;\n",
       "    }\n",
       "\n",
       "    .dataframe tbody tr th {\n",
       "        vertical-align: top;\n",
       "    }\n",
       "\n",
       "    .dataframe thead th {\n",
       "        text-align: right;\n",
       "    }\n",
       "</style>\n",
       "<table border=\"1\" class=\"dataframe\">\n",
       "  <thead>\n",
       "    <tr style=\"text-align: right;\">\n",
       "      <th></th>\n",
       "      <th>price</th>\n",
       "      <th>maint</th>\n",
       "      <th>doors</th>\n",
       "      <th>persons</th>\n",
       "      <th>lug_boot</th>\n",
       "      <th>safety</th>\n",
       "      <th>class</th>\n",
       "    </tr>\n",
       "  </thead>\n",
       "  <tbody>\n",
       "    <tr>\n",
       "      <th>0</th>\n",
       "      <td>vhigh</td>\n",
       "      <td>vhigh</td>\n",
       "      <td>2</td>\n",
       "      <td>2</td>\n",
       "      <td>small</td>\n",
       "      <td>low</td>\n",
       "      <td>unacc</td>\n",
       "    </tr>\n",
       "    <tr>\n",
       "      <th>1</th>\n",
       "      <td>vhigh</td>\n",
       "      <td>vhigh</td>\n",
       "      <td>2</td>\n",
       "      <td>2</td>\n",
       "      <td>small</td>\n",
       "      <td>med</td>\n",
       "      <td>unacc</td>\n",
       "    </tr>\n",
       "    <tr>\n",
       "      <th>2</th>\n",
       "      <td>vhigh</td>\n",
       "      <td>vhigh</td>\n",
       "      <td>2</td>\n",
       "      <td>2</td>\n",
       "      <td>small</td>\n",
       "      <td>high</td>\n",
       "      <td>unacc</td>\n",
       "    </tr>\n",
       "    <tr>\n",
       "      <th>3</th>\n",
       "      <td>vhigh</td>\n",
       "      <td>vhigh</td>\n",
       "      <td>2</td>\n",
       "      <td>2</td>\n",
       "      <td>med</td>\n",
       "      <td>low</td>\n",
       "      <td>unacc</td>\n",
       "    </tr>\n",
       "    <tr>\n",
       "      <th>4</th>\n",
       "      <td>vhigh</td>\n",
       "      <td>vhigh</td>\n",
       "      <td>2</td>\n",
       "      <td>2</td>\n",
       "      <td>med</td>\n",
       "      <td>med</td>\n",
       "      <td>unacc</td>\n",
       "    </tr>\n",
       "    <tr>\n",
       "      <th>...</th>\n",
       "      <td>...</td>\n",
       "      <td>...</td>\n",
       "      <td>...</td>\n",
       "      <td>...</td>\n",
       "      <td>...</td>\n",
       "      <td>...</td>\n",
       "      <td>...</td>\n",
       "    </tr>\n",
       "    <tr>\n",
       "      <th>1723</th>\n",
       "      <td>low</td>\n",
       "      <td>low</td>\n",
       "      <td>5more</td>\n",
       "      <td>more</td>\n",
       "      <td>med</td>\n",
       "      <td>med</td>\n",
       "      <td>good</td>\n",
       "    </tr>\n",
       "    <tr>\n",
       "      <th>1724</th>\n",
       "      <td>low</td>\n",
       "      <td>low</td>\n",
       "      <td>5more</td>\n",
       "      <td>more</td>\n",
       "      <td>med</td>\n",
       "      <td>high</td>\n",
       "      <td>vgood</td>\n",
       "    </tr>\n",
       "    <tr>\n",
       "      <th>1725</th>\n",
       "      <td>low</td>\n",
       "      <td>low</td>\n",
       "      <td>5more</td>\n",
       "      <td>more</td>\n",
       "      <td>big</td>\n",
       "      <td>low</td>\n",
       "      <td>unacc</td>\n",
       "    </tr>\n",
       "    <tr>\n",
       "      <th>1726</th>\n",
       "      <td>low</td>\n",
       "      <td>low</td>\n",
       "      <td>5more</td>\n",
       "      <td>more</td>\n",
       "      <td>big</td>\n",
       "      <td>med</td>\n",
       "      <td>good</td>\n",
       "    </tr>\n",
       "    <tr>\n",
       "      <th>1727</th>\n",
       "      <td>low</td>\n",
       "      <td>low</td>\n",
       "      <td>5more</td>\n",
       "      <td>more</td>\n",
       "      <td>big</td>\n",
       "      <td>high</td>\n",
       "      <td>vgood</td>\n",
       "    </tr>\n",
       "  </tbody>\n",
       "</table>\n",
       "<p>1728 rows × 7 columns</p>\n",
       "</div>"
      ],
      "text/plain": [
       "      price  maint  doors persons lug_boot safety  class\n",
       "0     vhigh  vhigh      2       2    small    low  unacc\n",
       "1     vhigh  vhigh      2       2    small    med  unacc\n",
       "2     vhigh  vhigh      2       2    small   high  unacc\n",
       "3     vhigh  vhigh      2       2      med    low  unacc\n",
       "4     vhigh  vhigh      2       2      med    med  unacc\n",
       "...     ...    ...    ...     ...      ...    ...    ...\n",
       "1723    low    low  5more    more      med    med   good\n",
       "1724    low    low  5more    more      med   high  vgood\n",
       "1725    low    low  5more    more      big    low  unacc\n",
       "1726    low    low  5more    more      big    med   good\n",
       "1727    low    low  5more    more      big   high  vgood\n",
       "\n",
       "[1728 rows x 7 columns]"
      ]
     },
     "execution_count": 47,
     "metadata": {},
     "output_type": "execute_result"
    }
   ],
   "source": [
    "# loading dataset in a readable dataframe\n",
    "car_table = pd.read_table('data/car.data', sep = \",\", header=None, names = [\"price\", \"maint\", \"doors\", \"persons\", \"lug_boot\", \"safety\", \"class\"],)\n",
    "car_table"
   ]
  },
  {
   "cell_type": "code",
   "execution_count": 51,
   "id": "ed60ab8d-a77e-4cc5-96d0-0c677e1f31bd",
   "metadata": {},
   "outputs": [
    {
     "data": {
      "text/plain": [
       "False"
      ]
     },
     "execution_count": 51,
     "metadata": {},
     "output_type": "execute_result"
    }
   ],
   "source": [
    "# checks to see if there are any nulls/nan values in the dataframe\n",
    "car_table.isnull().values.any()"
   ]
  },
  {
   "cell_type": "code",
   "execution_count": 77,
   "id": "c08966d7-442d-4303-925e-55bee8fb2d2c",
   "metadata": {},
   "outputs": [
    {
     "data": {
      "text/plain": [
       "<Figure size 1200x960 with 0 Axes>"
      ]
     },
     "execution_count": 77,
     "metadata": {},
     "output_type": "execute_result"
    },
    {
     "data": {
      "image/png": "[encoded data removed]",
      "text/plain": [
       "<Figure size 432x288 with 1 Axes>"
      ]
     },
     "metadata": {
      "needs_background": "light"
     },
     "output_type": "display_data"
    },
    {
     "data": {
      "text/plain": [
       "<Figure size 1200x960 with 0 Axes>"
      ]
     },
     "metadata": {},
     "output_type": "display_data"
    }
   ],
   "source": [
    "price = pd.DataFrame(car_table[\"price\"])\n",
    "\n",
    "# price.value_counts().plot(kind='bar')\n",
    "plt.hist(price, bins=7)\n",
    "plt.xlabel(\"Price\")\n",
    "plt.ylabel(\"Count\")\n",
    "plt.title(\"Figure 1: Distribution of Price Variable\")\n",
    "plt.figure(figsize=(15, 12), dpi= 80)"
   ]
  },
  {
   "cell_type": "markdown",
   "id": "190a0014-f54f-4b3c-a88e-aebac625bb95",
   "metadata": {},
   "source": [
    "No class imbalances.\n",
    "&nbsp;\n",
    "\n",
    "\n",
    "\n",
    "&nbsp;"
   ]
  },
  {
   "cell_type": "code",
   "execution_count": 3,
   "id": "40aa5897-2fa3-40a4-b6be-0add1bdfcaff",
   "metadata": {},
   "outputs": [],
   "source": [
    "# categorizing features(price, maint, doors, persons, lug_boot, safety, class) to be used a in column transformer to enable easy manipulation of data frame\n",
    "\n",
    "ordinal_feats = [\"price\", \"maint\", \"doors\", \"persons\", \"lug_boot\", \"safety\", \"class\"]\n",
    "\n",
    "# categories of each feature\n",
    "maint_levels = ['low', 'med', 'high', 'vhigh']\n",
    "doors_levels = ['2', '3', '4', '5more']\n",
    "persons_levels = ['2', '4', 'more']\n",
    "boot_levels = ['small', 'med', 'big']\n",
    "safety_levels = ['low', 'med', 'high']\n",
    "class_levels = ['unacc', 'acc', 'good', 'vgood']\n",
    "\n",
    "\n",
    "# ordinal encoding of each feature\n",
    "column_transformer = make_column_transformer(\n",
    "    (OrdinalEncoder(categories=[maint_levels, maint_levels, doors_levels, persons_levels, boot_levels, safety_levels, class_levels],\n",
    "                    dtype = int),\n",
    "                    ordinal_feats)\n",
    ")\n",
    "\n",
    "X_transformed = column_transformer.fit_transform(car_table)\n",
    "column_names = (ordinal_feats)\n",
    "\n"
   ]
  },
  {
   "cell_type": "code",
   "execution_count": 49,
   "id": "3be4abde-485d-4d21-b3eb-37807e067500",
   "metadata": {},
   "outputs": [],
   "source": [
    "# creating new table after data preprcoessing \n",
    "new_table = pd.DataFrame(X_transformed, columns=column_names)\n",
    "\n",
    "# splitting of target variable and features\n",
    "X_car = new_table.drop(columns=[\"price\"])\n",
    "Y_car = new_table['price']\n",
    "\n",
    "\n",
    "# splitting of data frame into training and testing data\n",
    "X_train, X_Test, y_train, y_test = train_test_split(X_car, Y_car, test_size=0.2, random_state=1)\n",
    "\n",
    "# features used for modeling\n",
    "feats = [\"maint\", \"doors\", \"persons\", \"lug_boot\", \"safety\", \"class\"]"
   ]
  },
  {
   "cell_type": "code",
   "execution_count": 22,
   "id": "f5f451d6-e33f-486f-9926-7ccb86dc3102",
   "metadata": {},
   "outputs": [
    {
     "data": {
      "text/html": [
       "<div>\n",
       "<style scoped>\n",
       "    .dataframe tbody tr th:only-of-type {\n",
       "        vertical-align: middle;\n",
       "    }\n",
       "\n",
       "    .dataframe tbody tr th {\n",
       "        vertical-align: top;\n",
       "    }\n",
       "\n",
       "    .dataframe thead th {\n",
       "        text-align: right;\n",
       "    }\n",
       "</style>\n",
       "<table border=\"1\" class=\"dataframe\">\n",
       "  <thead>\n",
       "    <tr style=\"text-align: right;\">\n",
       "      <th></th>\n",
       "      <th>fit_time</th>\n",
       "      <th>score_time</th>\n",
       "      <th>test_score</th>\n",
       "    </tr>\n",
       "  </thead>\n",
       "  <tbody>\n",
       "    <tr>\n",
       "      <th>0</th>\n",
       "      <td>0.012001</td>\n",
       "      <td>0.000000</td>\n",
       "      <td>0.371429</td>\n",
       "    </tr>\n",
       "    <tr>\n",
       "      <th>1</th>\n",
       "      <td>0.011514</td>\n",
       "      <td>0.001001</td>\n",
       "      <td>0.257143</td>\n",
       "    </tr>\n",
       "    <tr>\n",
       "      <th>2</th>\n",
       "      <td>0.013000</td>\n",
       "      <td>0.001020</td>\n",
       "      <td>0.314286</td>\n",
       "    </tr>\n",
       "    <tr>\n",
       "      <th>3</th>\n",
       "      <td>0.012980</td>\n",
       "      <td>0.001000</td>\n",
       "      <td>0.285714</td>\n",
       "    </tr>\n",
       "    <tr>\n",
       "      <th>4</th>\n",
       "      <td>0.013000</td>\n",
       "      <td>0.001000</td>\n",
       "      <td>0.304348</td>\n",
       "      <td>0.228571</td>\n",
       "    </tr>\n",
       "    <tr>\n",
       "      <th>5</th>\n",
       "      <td>0.011003</td>\n",
       "      <td>0.000998</td>\n",
       "      <td>0.342857</td>\n",
       "    </tr>\n",
       "    <tr>\n",
       "      <th>6</th>\n",
       "      <td>0.013000</td>\n",
       "      <td>0.000999</td>\n",
       "      <td>0.205882</td>\n",
       "    </tr>\n",
       "    <tr>\n",
       "      <th>7</th>\n",
       "      <td>0.010000</td>\n",
       "      <td>0.001000</td>\n",
       "      <td>0.323529</td>\n",
       "    </tr>\n",
       "    <tr>\n",
       "      <th>8</th>\n",
       "      <td>0.010000</td>\n",
       "      <td>0.001000</td>\n",
       "      <td>0.352941</td>\n",
       "    </tr>\n",
       "    <tr>\n",
       "      <th>9</th>\n",
       "      <td>0.010000</td>\n",
       "      <td>0.001000</td>\n",
       "      <td>0.441176</td>\n",
       "    </tr>\n",
       "  </tbody>\n",
       "</table>\n",
       "</div>"
      ],
      "text/plain": [
       "   fit_time  score_time  test_score\n",
       "0  0.012001    0.000000    0.371429\n",
       "1  0.011514    0.001001    0.257143\n",
       "2  0.013000    0.001020    0.314286\n",
       "3  0.012980    0.001000    0.285714\n",
       "4  0.013000    0.001000    0.228571\n",
       "5  0.011003    0.000998    0.342857\n",
       "6  0.013000    0.000999    0.205882\n",
       "7  0.010000    0.001000    0.323529\n",
       "8  0.010000    0.001000    0.352941\n",
       "9  0.010000    0.001000    0.441176"
      ]
     },
     "execution_count": 22,
     "metadata": {},
     "output_type": "execute_result"
    }
   ],
   "source": [
    "# fitting model for classification analysis\n",
    "\n",
    "lr = LogisticRegression(max_iter=1000, C=100)\n",
    "lr.fit(X_train, y_train)\n",
    "\n",
    "coeffs = lr.coef_[3]\n",
    "\n",
    "score = cross_validate(lr, X_Test, y_test, cv=10)\n",
    "\n",
    "pd.DataFrame(score)\n"
   ]
  },
  {
   "cell_type": "code",
   "execution_count": 51,
   "id": "b9570e7e-35a0-4fa4-86e1-62bbd86aa171",
   "metadata": {},
   "outputs": [
    {
     "data": {
      "text/html": [
       "<div>\n",
       "<style scoped>\n",
       "    .dataframe tbody tr th:only-of-type {\n",
       "        vertical-align: middle;\n",
       "    }\n",
       "\n",
       "    .dataframe tbody tr th {\n",
       "        vertical-align: top;\n",
       "    }\n",
       "\n",
       "    .dataframe thead th {\n",
       "        text-align: right;\n",
       "    }\n",
       "</style>\n",
       "<table border=\"1\" class=\"dataframe\">\n",
       "  <thead>\n",
       "    <tr style=\"text-align: right;\">\n",
       "      <th></th>\n",
       "      <th>features</th>\n",
       "      <th>coefficient</th>\n",
       "    </tr>\n",
       "  </thead>\n",
       "  <tbody>\n",
       "    <tr>\n",
       "      <th>5</th>\n",
       "      <td>class</td>\n",
       "      <td>-1.163577</td>\n",
       "    </tr>\n",
       "    <tr>\n",
       "      <th>0</th>\n",
       "      <td>maint</td>\n",
       "      <td>-0.149224</td>\n",
       "    </tr>\n",
       "    <tr>\n",
       "      <th>1</th>\n",
       "      <td>doors</td>\n",
       "      <td>0.017235</td>\n",
       "    </tr>\n",
       "    <tr>\n",
       "      <th>3</th>\n",
       "      <td>lug_boot</td>\n",
       "      <td>0.104307</td>\n",
       "    </tr>\n",
       "    <tr>\n",
       "      <th>2</th>\n",
       "      <td>persons</td>\n",
       "      <td>0.309111</td>\n",
       "    </tr>\n",
       "    <tr>\n",
       "      <th>4</th>\n",
       "      <td>safety</td>\n",
       "      <td>0.400069</td>\n",
       "    </tr>\n",
       "  </tbody>\n",
       "</table>\n",
       "</div>"
      ],
      "text/plain": [
       "   features  coefficient\n",
       "5     class    -1.163577\n",
       "0     maint    -0.149224\n",
       "1     doors     0.017235\n",
       "3  lug_boot     0.104307\n",
       "2   persons     0.309111\n",
       "4    safety     0.400069"
      ]
     },
     "execution_count": 51,
     "metadata": {},
     "output_type": "execute_result"
    }
   ],
   "source": [
    "# coefficients of each feature\n",
    "\n",
    "data = {\"features\":feats, \"coefficient\":coeffs}\n",
    "df1 = pd.DataFrame(data).sort_values(by=['coefficient'])\n",
    "df1"
   ]
  },
  {
   "cell_type": "code",
   "execution_count": 52,
   "id": "2f048338-70d3-42cb-8dc4-e9ef9cf58127",
   "metadata": {},
   "outputs": [
    {
     "data": {
      "image/png": "[encoded data removed]",
      "text/plain": [
       "<Figure size 432x288 with 1 Axes>"
      ]
     },
     "metadata": {
      "needs_background": "light"
     },
     "output_type": "display_data"
    }
   ],
   "source": [
    "#mglearn.tools.visualize_coefficients(coeffs, feats, n_top_features=2)\n",
    "df1 = df1.sort_values(by=['coefficient'])\n",
    "\n",
    "fig2 = plt.figure()\n",
    "axes = fig2.add_axes([0,0,1,1])\n",
    "axes.set_title('Graph of training coefficients')\n",
    "axes.set_xlabel('Features')\n",
    "axes.set_ylabel('Coefficient Values')\n",
    "\n",
    "axes.bar(df1['features'][:2], df1['coefficient'][:2], color=\"red\")\n",
    "axes.bar(df1['features'][2:], df1['coefficient'][2:])\n",
    "plt.show()"
   ]
  },
  {
   "cell_type": "markdown",
   "id": "1d34b942-410f-4c14-b4e3-49fcced6dc45",
   "metadata": {},
   "source": [
    "&nbsp;\n",
    "\n",
    "&nbsp;"
   ]
  },
  {
   "cell_type": "markdown",
   "id": "4da1fe72-1376-48c9-93ab-7fba3bd9dd26",
   "metadata": {},
   "source": [
    "### <u>Discussion<u>"
   ]
  },
  {
   "cell_type": "markdown",
   "id": "568d5ba8",
   "metadata": {},
   "source": [
    "We have found that higher values of class and maintenance features decrease the value of the vehicle. While safety and the higher number of people that can fit in the car increase the value of the car the most. It was not what we expected because the value of the vehicle being increased by more people is subjective. Some people may value having more seats in a car than others due to personal preference. Moreover, we cannot use this model to discuss the impacts of such findings because the accuracy of the model needs to be increased a lot more before anything can be reasonably/confidently inferred from it. In the future, we can see if adding more features such as horsepower or branding of the car affects the value of the vehicle. It would also be interesting to see if introducing more categories in our target variable would increase the accuracy of the model."
   ]
  },
  {
   "cell_type": "markdown",
   "id": "967ab5cd-6ed9-4c41-9fac-cda1ceaf0883",
   "metadata": {},
   "source": [
    "&nbsp;\n",
    "\n",
    "&nbsp;"
   ]
  },
  {
   "cell_type": "markdown",
   "id": "0582268f-73cb-428a-9ba7-6e0889ed4831",
   "metadata": {},
   "source": [
    "### <u>References<u>"
   ]
  },
  {
   "cell_type": "markdown",
   "id": "e0c2fe9b-5865-4edc-9833-1791997afb2a",
   "metadata": {},
   "source": [
    "1 Capparella, J. (2021, November 29). New car prices are skyrocketing this spring. Car and \n",
    "Driver. Retrieved February 19, 2022, from https://www.caranddriver.com/news/a36342329/new-cars-expensive-prices/ \n",
    "\n",
    "2 Henry, J. (2021, November 11). Average new car price tops $45,000, used car price over \n",
    "$25,000. Forbes. Retrieved February 19, 2022, from https://www.forbes.com/wheels/news/new-car-price-tops-45000/ \n",
    "\n",
    "3 Vallet, M. (2021, February 25). Insurance for 2-door car versus 4-door car. Carinsurance.com. \n",
    "Retrieved February 19, 2022, from https://www.carinsurance.com/2-door-vs-4-door.aspx \n",
    "\n",
    "4 Ltd., T. I. (2020, June 27). How much does car maintenance cost? Car Maintenance Cost | \n",
    "What Is The Average Car Maintenance Cost? Retrieved February 19, 2022, from https://www.thinkinsure.ca/insurance-help-centre/car-maintenance-cost.html \n",
    "5 Vehicle maintenance: Cost relationship and estimating ... (n.d.). Retrieved February 19, 2022, \n",
    "from https://onlinepubs.trb.org/Onlinepubs/trr/1987/1140/1140-001.pdf \n",
    "\n",
    "6 Car Evaluation. (1997). UCI Machine Learning Repository.\n"
   ]
  }
 ],
 "metadata": {
  "kernelspec": {
   "display_name": "Python 3 (ipykernel)",
   "language": "python",
   "name": "python3"
  },
  "language_info": {
   "codemirror_mode": {
    "name": "ipython",
    "version": 3
   },
   "file_extension": ".py",
   "mimetype": "text/x-python",
   "name": "python",
   "nbconvert_exporter": "python",
   "pygments_lexer": "ipython3",
   "version": "3.9.5"
  }
 },
 "nbformat": 4,
 "nbformat_minor": 5
}
